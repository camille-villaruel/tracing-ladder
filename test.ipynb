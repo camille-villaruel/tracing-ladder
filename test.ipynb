{
 "cells": [
  {
   "cell_type": "code",
   "execution_count": 11,
   "id": "e075a693",
   "metadata": {},
   "outputs": [],
   "source": [
    "import pandas as pd\n",
    "import json"
   ]
  },
  {
   "cell_type": "code",
   "execution_count": 12,
   "id": "374788a1",
   "metadata": {},
   "outputs": [],
   "source": [
    "with open('screen_margin.json', 'r') as file:\n",
    "    screen_file = file.read()"
   ]
  },
  {
   "cell_type": "code",
   "execution_count": 13,
   "id": "0883d86a",
   "metadata": {},
   "outputs": [
    {
     "data": {
      "text/plain": [
       "{'top_width_margin': 100,\n",
       " 'left_width_margin': 20,\n",
       " 'right_width_margin': 20,\n",
       " 'bottom margin': 100}"
      ]
     },
     "execution_count": 13,
     "metadata": {},
     "output_type": "execute_result"
    }
   ],
   "source": [
    "json.loads(screen_file)"
   ]
  },
  {
   "cell_type": "code",
   "execution_count": 9,
   "id": "6711c7ed",
   "metadata": {},
   "outputs": [],
   "source": [
    "screen_file_df = pd.read_json(screen_file, orient ='index')"
   ]
  },
  {
   "cell_type": "code",
   "execution_count": 10,
   "id": "b31a5709",
   "metadata": {},
   "outputs": [
    {
     "data": {
      "text/html": [
       "<div>\n",
       "<style scoped>\n",
       "    .dataframe tbody tr th:only-of-type {\n",
       "        vertical-align: middle;\n",
       "    }\n",
       "\n",
       "    .dataframe tbody tr th {\n",
       "        vertical-align: top;\n",
       "    }\n",
       "\n",
       "    .dataframe thead th {\n",
       "        text-align: right;\n",
       "    }\n",
       "</style>\n",
       "<table border=\"1\" class=\"dataframe\">\n",
       "  <thead>\n",
       "    <tr style=\"text-align: right;\">\n",
       "      <th></th>\n",
       "      <th>0</th>\n",
       "    </tr>\n",
       "  </thead>\n",
       "  <tbody>\n",
       "    <tr>\n",
       "      <th>top_width_margin</th>\n",
       "      <td>100</td>\n",
       "    </tr>\n",
       "    <tr>\n",
       "      <th>left_width_margin</th>\n",
       "      <td>20</td>\n",
       "    </tr>\n",
       "    <tr>\n",
       "      <th>right_width_margin</th>\n",
       "      <td>20</td>\n",
       "    </tr>\n",
       "    <tr>\n",
       "      <th>bottom margin</th>\n",
       "      <td>100</td>\n",
       "    </tr>\n",
       "  </tbody>\n",
       "</table>\n",
       "</div>"
      ],
      "text/plain": [
       "                      0\n",
       "top_width_margin    100\n",
       "left_width_margin    20\n",
       "right_width_margin   20\n",
       "bottom margin       100"
      ]
     },
     "execution_count": 10,
     "metadata": {},
     "output_type": "execute_result"
    }
   ],
   "source": [
    "df2"
   ]
  },
  {
   "cell_type": "code",
   "execution_count": 14,
   "id": "141524b3",
   "metadata": {},
   "outputs": [
    {
     "name": "stdout",
     "output_type": "stream",
     "text": [
      "In superclass method: name: John age: 20\n",
      "In subclass method: name: John age: 20\n",
      "Outside both methods: name: John age: 20\n"
     ]
    }
   ],
   "source": [
    "\n",
    "class Person():\n",
    "    def __init__(self, per_name, per_age):\n",
    "        self.name = per_name\n",
    "        self.age = per_age\n",
    "        self.salary = 100\n",
    "\n",
    "    def display1(self):\n",
    "        print(\"In superclass method: name:\", self.name, \"age:\", self.age)\n",
    " \n",
    "\n",
    "class Employee(Person):\n",
    "    def __init__(self, emp_name, emp_age):\n",
    "        super().__init__(emp_name, emp_age)\n",
    "    \n",
    "    def display2(self):\n",
    "        self.employee_id = 1\n",
    "        print(\"In subclass method: name:\", self.name, \"age:\", self.age)\n",
    "        \n",
    "\n",
    "emp = Employee(\"John\", 20)  # creating object of superclass\n",
    " \n",
    "emp.display1()\n",
    "emp.display2()\n",
    "print(\"Outside both methods: name:\", emp.name, \"age:\", emp.age)\n"
   ]
  },
  {
   "cell_type": "code",
   "execution_count": 15,
   "id": "00a7a7a4",
   "metadata": {},
   "outputs": [
    {
     "data": {
      "text/plain": [
       "100"
      ]
     },
     "execution_count": 15,
     "metadata": {},
     "output_type": "execute_result"
    }
   ],
   "source": [
    "emp.salary"
   ]
  },
  {
   "cell_type": "code",
   "execution_count": 2,
   "id": "bcee3e6a",
   "metadata": {},
   "outputs": [],
   "source": [
    "sample_dict = {'hello':{'one','two'}, 'world':{'three', 'four'}}"
   ]
  },
  {
   "cell_type": "code",
   "execution_count": 7,
   "id": "6c5b781b",
   "metadata": {},
   "outputs": [
    {
     "data": {
      "text/plain": [
       "{'one', 'two'}"
      ]
     },
     "execution_count": 7,
     "metadata": {},
     "output_type": "execute_result"
    }
   ],
   "source": [
    "list(sample_dict.values())[0]"
   ]
  },
  {
   "cell_type": "code",
   "execution_count": 2,
   "id": "3b7d3052",
   "metadata": {},
   "outputs": [
    {
     "name": "stdout",
     "output_type": "stream",
     "text": [
      "hello\n",
      "{'two', 'one'}\n",
      "world\n",
      "{'three', 'four'}\n"
     ]
    }
   ],
   "source": [
    "for key, value in sample_dict.items():\n",
    "    print(key)\n",
    "    print(value)"
   ]
  },
  {
   "cell_type": "code",
   "execution_count": null,
   "id": "136a2c52",
   "metadata": {},
   "outputs": [],
   "source": []
  }
 ],
 "metadata": {
  "kernelspec": {
   "display_name": "Python 3 (ipykernel)",
   "language": "python",
   "name": "python3"
  },
  "language_info": {
   "codemirror_mode": {
    "name": "ipython",
    "version": 3
   },
   "file_extension": ".py",
   "mimetype": "text/x-python",
   "name": "python",
   "nbconvert_exporter": "python",
   "pygments_lexer": "ipython3",
   "version": "3.10.10"
  }
 },
 "nbformat": 4,
 "nbformat_minor": 5
}
